{
 "cells": [
  {
   "cell_type": "markdown",
   "metadata": {},
   "source": [
    "# TP 1 - Algorithme de rétro-propagation de l’erreur\n",
    "\n",
    "**L’objectif de cette première séance de travaux pratiques est de vous faire implémenter par vous même l’apprentissage de réseaux de neurones simples.**\n",
    "Cettre prise en main sera très formatrice pour utiliser des modèles plus évolués, et comprendre le fonctionnement des libaries (comme Keras) où l’apprentissage est automatisé.\n",
    "\n",
    "On va travailler avec la base de données image MNIST, constituée d’images de\n",
    "caractères manuscrits (60000 images en apprentissage, 10000 en test).\n",
    "\n",
    "Voici un bout de code pour récupérer les données  :"
   ]
  },
  {
   "cell_type": "code",
   "execution_count": null,
   "metadata": {
    "hide-output": false
   },
   "outputs": [],
   "source": [
    "from keras.datasets import mnist\n",
    "# the data, shuffled and split between train and test sets\n",
    "(X_train, y_train), (X_test, y_test) = mnist.load_data()\n",
    "X_train = X_train.reshape(60000, 784)\n",
    "X_test = X_test.reshape(10000, 784)\n",
    "X_train = X_train.astype('float32')\n",
    "X_test = X_test.astype('float32')\n",
    "X_train /= 255\n",
    "X_test /= 255\n",
    "print(X_train.shape[0], 'train samples')\n",
    "print(X_test.shape[0], 'test samples')"
   ]
  },
  {
   "cell_type": "markdown",
   "metadata": {},
   "source": [
    "## Exercice 0 : visualisation de quelques images de la base\n",
    "<dl style='margin: 20px 0;'>\n",
    "<dt>Nous commencerons par afficher les 200 premières images de la base d’apprentissage.</dt>\n",
    "<dd>\n",
    "    \n",
    "- Écrire un script qui récupère les données avec le code précédent.  \n",
    "- Compléter pour permettre l’affichage demandé en utilisant le code suivant :  "
   ]
  },
  {
   "cell_type": "code",
   "execution_count": null,
   "metadata": {
    "hide-output": false
   },
   "outputs": [],
   "source": [
    "import matplotlib as mpl\n",
    "import matplotlib.pyplot as plt\n",
    "plt.figure(figsize=(7.195, 3.841), dpi=100)\n",
    "for i in range(200):\n",
    "  plt.subplot(10,20,i+1)\n",
    "  plt.imshow(X_train[i,:].reshape([28,28]), cmap='gray')\n",
    "  plt.axis('off')\n",
    "plt.show()"
   ]
  },
  {
   "cell_type": "markdown",
   "metadata": {},
   "source": [
    "## Question :\n",
    "\n",
    "Quel est l’espace dans lequel se trouvent les images ? Quel est sa taille ?"
   ]
  },
  {
   "cell_type": "markdown",
   "metadata": {},
   "source": [
    "## Exercice 1 : Régression Logistique"
   ]
  },
  {
   "cell_type": "markdown",
   "metadata": {},
   "source": [
    "### Modèle de prédiction\n",
    "\n",
    "\n",
    "<dl style='margin: 20px 0;'>\n",
    "<dt>On va d’abord commencer par créer un modèle de classification linéaire populaire, la régression logistique.</dt>\n",
    "<dd>\n",
    "Ce modèle correspond à un réseau de neurones à une seule couche, qui va projeter le vecteur d’entrée $ \\mathbf{x_i} $ pour une image MNIST\n",
    "(taille $ 28^2=784 $) avec un vecteur de de paramètres $ \\mathbf{w_{c}} $ pour chaque classe (plus un biais $ b_c $).\n",
    "Pour correspondre à la matrice des données de l’exercice précédent, on considère que chaque exemple $ \\mathbf{x_i} $ est un vecteur ligne - taille (1,784).\n",
    "En regroupant l’ensemble des jeux de paramètres $ \\mathbf{w_{c}} $ pour les 10 classes dans une matrice $ \\mathbf{W} $ (taille $ 784\\times 10 $),\n",
    "et les biais dans un vecteur $ \\mathbf{b} $, on obtient un vecteur\n",
    "$ \\mathbf{\\hat{s_i}} =\\mathbf{x_i}  \\mathbf{W}  + \\mathbf{b} $ de taille (1,10).\n",
    "Une fonction d’activation de type soft-max sur $ \\mathbf{\\hat{y_i}} = $ `softmax` $ (\\mathbf{s_i}) $ permet d’obtenir le vecteur de sortie prédit par le modèle $ \\mathbf{\\hat{y_i}} $\n",
    "- de taille (1,10) - qui représente la probabilité *a posteriori*\n",
    "$ p(\\mathbf{\\hat{y_i}} | \\mathbf{x_i}) $ pour chacune des 10 classes:\n",
    "\n",
    "</dd>\n",
    "\n",
    "</dl>\n",
    "\n",
    "\n",
    "<a id='equation-softmax'></a>\n",
    "$$\n",
    "p(\\hat{y_{c,i}} | \\mathbf{x_i}) ) = \\frac{e^{\\langle \\mathbf{x_i} ; \\mathbf{w_{c}}\\rangle + b_{c}}}{\\sum\\limits_{c'=1}^{10} e^{\\langle \\mathbf{x_i} ; \\mathbf{w_{c'}}\\rangle + b_{c'}}} \\tag{1}\n",
    "$$\n",
    "\n",
    "Le schéma ci-dessous illustre le modèle de régression logistique avec un réseau de neurones.\n",
    "\n",
    "<img src=\"http://cedric.cnam.fr/~thomen/cours/US330X/_images/LR.png\" style=\"height:150px;\" align=\"center\">\n",
    "\n",
    "- Quel est le nombre de paramètres du modèle ? Justifier le calcul.  "
   ]
  },
  {
   "cell_type": "markdown",
   "metadata": {},
   "source": [
    "### Formulation du problème d’apprentissage\n",
    "\n",
    "> Afin d’entraîner le réseau de neurones, on va comparer, pour chaque exemple d’apprentissage, la sortie prédite $ \\mathbf{\\hat{y_i}} $ par le réseau\n",
    "(équation [(1)](#equation-softmax)) pour l’image $ \\mathbf{x_i} $, avec la sortie\n",
    "réelle $ \\mathbf{y_i^*} $ issue de la supervision qui correspond à la catégorie de l’image $ \\mathbf{x_i} $:\n",
    "on utilisera en encodage de type « one-hot » pour $ \\mathbf{y_i^*} $, *i.e.* :\n",
    "\n",
    "\n",
    "\n",
    "<a id='equation-one-hot'></a>\n",
    "$$\n",
    "y_{c,i}^* =\n",
    " \\begin{cases}\n",
    "   1 & \\text{si c correspond à l'indice de la classe de } \\mathbf{x_i}  \\\\\n",
    "   0 & \\text{sinon}\n",
    " \\end{cases} \\tag{2}\n",
    "$$\n",
    "\n",
    "Pour mesurer l’erreur de prédiction, on utilisera une fonction de coût de type entropie croisée (« cross-entropy ») entre $ \\mathbf{\\hat{y_i}} $ et $ \\mathbf{y_i^*} $\n",
    "(l’entropie croisée est lié à la divergence de Kullback-Leiber, qui mesure une dissimilarité entre distributions de probabilités) :\n",
    "$ \\mathcal{L}(\\mathbf{\\hat{y_i}}, \\mathbf{y_i^*}) = -\\sum\\limits_{c=1}^{10} y_{c,i}^* log(\\hat{y}_{c,i}) = - log(\\hat{y}_{c^*,i}) $, où $ c^* $ correspond à l’indice de la classe donné par la supervision pour l’image $ \\mathbf{x_i} $.\n",
    "\n",
    "La fonction de coût finale consistera à moyenner l’entropie croisée sur l’ensemble de la base d’apprentissage $ \\mathcal{D} $ consistuée de $ N=60000 $ images :\n",
    "\n",
    "\n",
    "<a id='equation-ce'></a>\n",
    "$$\n",
    "\\mathcal{L}_{\\mathbf{W},\\mathbf{b}}(\\mathcal{D})  = - \\frac{1}{N}\\sum_{i=1}^{N} log(\\hat{y}_{c^*,i}) \\tag{3}\n",
    "$$"
   ]
  },
  {
   "cell_type": "markdown",
   "metadata": {},
   "source": [
    "### Question :\n",
    "\n",
    "La fonction de coût de l’Eq. [(3)](#equation-ce) est-elle convexe par rapports aux paramètres $ \\mathbf{W} $, $ \\mathbf{b} $ du modèle ? Avec un pas de gradient bien choisi, peut-on assurer la convergence vers le minimum  global de la solution ?"
   ]
  },
  {
   "cell_type": "markdown",
   "metadata": {},
   "source": [
    "### Optimisation du modèle\n",
    "\n",
    "Afin d’optimiser les paramètres $ \\mathbf{W} $ et $ \\mathbf{b} $ du modèle de régression logistique par descente de gradient, on va utiliser la règle des dérivées chaînées (chain rule) :\n",
    "\n",
    "$$\n",
    "\\frac{\\partial \\mathcal{L}}{\\partial \\mathbf{W}} =  \\frac{1}{N}\\sum_{i=1}^{N} \\frac{\\partial \\mathcal{L}}{\\partial \\mathbf{\\hat{y_i}}}  \\frac{\\partial \\mathbf{\\hat{y_i}}}{\\partial \\mathbf{s_i}} \\frac{\\partial \\mathbf{s_i}}{\\partial \\mathbf{W}}\n",
    "$$\n",
    "\n",
    "$$\n",
    "\\frac{\\partial \\mathcal{L}}{\\partial \\mathbf{b}} =  \\frac{1}{N}\\sum_{i=1}^{N} \\frac{\\partial \\mathcal{L}}{\\partial \\mathbf{\\hat{y_i}}}  \\frac{\\partial \\mathbf{\\hat{y_i}}}{\\partial \\mathbf{s_i}} \\frac{\\partial \\mathbf{s_i}}{\\partial \\mathbf{b}}\n",
    "$$"
   ]
  },
  {
   "cell_type": "markdown",
   "metadata": {},
   "source": [
    "### Montrer que :\n",
    "\n",
    "$$\n",
    "\\frac{\\partial \\mathcal{L}}{\\partial \\mathbf{s_i}} = \\mathbf{\\delta^y_i}  =\\frac{\\partial \\mathcal{L}}{\\partial \\mathbf{\\hat{y_i}}}  \\frac{\\partial \\mathbf{\\hat{y_i}}}{\\partial \\mathbf{s_i}} = \\mathbf{\\hat{y_i}} - \\mathbf{y_i^*}\n",
    "$$"
   ]
  },
  {
   "cell_type": "markdown",
   "metadata": {},
   "source": [
    "### En déduire que les gradients de $ \\mathcal{L} $ par rapport aux paramètres du modèle s’écrivent :\n",
    "\n",
    "\n",
    "<a id='equation-gradientw-LR'></a>\n",
    "$$\n",
    "\\frac{\\partial \\mathcal{L}}{\\partial \\mathbf{W}} = \\frac{1}{N} \\mathbf{X}^T (\\mathbf{\\hat{Y}} - \\mathbf{Y^*}) = \\frac{1}{N} \\mathbf{X}^T \\mathbf{\\Delta^y} \\tag{4}\n",
    "$$\n",
    "\n",
    "\n",
    "<a id='equation-gradientb-LR'></a>\n",
    "$$\n",
    "\\frac{\\partial \\mathcal{L}}{\\partial \\mathbf{b}} = \\frac{1}{N}\\sum_{i=1}^{N}(\\mathbf{\\hat{y_i}} - \\mathbf{y_i^*}) \\tag{5}\n",
    "$$\n",
    "\n",
    "Où  $ \\mathbf{X} $ est la matrice des données (taille $ 60000\\times 784 $), $ \\mathbf{\\hat{Y}} $ est la matrice des labels prédits sur l’ensemble de la base d’apprentissage (taille $ 60000\\times 10 $)\n",
    "et $ \\mathbf{Y^*} $ est la matrice des labels donnée issue de la supervision (« ground truth », taille $ 60000\\times 10 $), et $ \\mathbf{\\Delta^y}=\\mathbf{\\hat{Y}}-\\mathbf{Y^*} $."
   ]
  },
  {
   "cell_type": "markdown",
   "metadata": {},
   "source": [
    "### Implémentation de l’apprentissage\n",
    "\n",
    "Les gradients aux équations [(4)](#equation-gradientw-LR) et [(5)](#equation-gradientb-LR) s’écrivent sous forme « vectorielle », ce qui va rendre les calculs efficaces avec des librairies de calculs scientifique comme `numpy`. Après calcul du gradient, les paramètres\n",
    "seront mis à jour de la manière suivante :\n",
    "\n",
    "\n",
    "<a id='equation-gradientupdatew'></a>\n",
    "$$\n",
    "\\mathbf{W}^{(t+1)} = \\mathbf{W}^{(t)} - \\eta \\frac{\\partial \\mathcal{L}}{\\partial \\mathbf{W}} \\tag{6}\n",
    "$$\n",
    "\n",
    "\n",
    "<a id='equation-gradientupdateb'></a>\n",
    "$$\n",
    "\\mathbf{b}^{(t+1)} = \\mathbf{b}^{(t)} - \\eta \\frac{\\partial \\mathcal{L}}{\\partial \\mathbf{b}} \\tag{7}\n",
    "$$\n",
    "\n",
    "où $ \\eta $ est le pas de gradient (learning rate).\n",
    "\n",
    "Pour implémenter l’algorithme d’apprentissage, on utuilisera une descente de gradient stochastique, c’est à dire que les gradients aux équations [(4)](#equation-gradientw-LR) et [(5)](#equation-gradientb-LR)  ne seront pas calculés\n",
    "sur l’ensemble des $ N=60000 $ images d’apprentissage, mais sur un sous ensemble appelé **batch**. Cette technique permet une mise à jour des paramètres plus fréquente qu’avec une descente de gradient classique, et une convergence\n",
    "plus rapide (au détriment d’un calcul de gradient approximé).\n",
    "\n",
    "**On demande de mettre en place un script** `exo1.py` **qui implémente l’alogorithme de régression logistique sur la base MNIST.**\n",
    "\n",
    "Après avoir chargé les données (exercice 0), on utilisera le code suivant pour générer des labels au format\n",
    "0-1 encoding - équation [(2)](#equation-one-hot)."
   ]
  },
  {
   "cell_type": "code",
   "execution_count": null,
   "metadata": {
    "hide-output": false
   },
   "outputs": [],
   "source": [
    "from keras.utils import np_utils\n",
    "K=10\n",
    "# convert class vectors to binary class matrices\n",
    "Y_train = np_utils.to_categorical(y_train, K)\n",
    "Y_test = np_utils.to_categorical(y_test, K)"
   ]
  },
  {
   "cell_type": "markdown",
   "metadata": {},
   "source": [
    "**On pourra utiliser la fonction suivante pour calculer la fonction softmax sur chaque élément de de la matrice de la projection linéraire (taille 𝑡𝑏×10) :**"
   ]
  },
  {
   "cell_type": "code",
   "execution_count": null,
   "metadata": {},
   "outputs": [],
   "source": [
    "def softmax(X):\n",
    "    # Input matrix X of size Nbxd - Output matrix of same size\n",
    "    E = np.exp(X)\n",
    "    return (E.T / np.sum(E,axis=1)).T"
   ]
  },
  {
   "cell_type": "markdown",
   "metadata": {},
   "source": [
    "## On mettra alors en place un code dont le squellette est donné ci-dessous :"
   ]
  },
  {
   "cell_type": "code",
   "execution_count": null,
   "metadata": {
    "hide-output": false
   },
   "outputs": [],
   "source": [
    "N = X_train.shape[0]\n",
    "d = X_train.shape[1]\n",
    "W = np.zeros((d,K))\n",
    "b = np.zeros((1,K))\n",
    "numEp = 20 # Number of epochs for gradient descent\n",
    "eta = 1e-1 # Learning rate\n",
    "batch_size = 100\n",
    "nb_batches = int(float(N) / batch_size)\n",
    "gradW = np.zeros((d,K))\n",
    "gradb = np.zeros((1,K))\n",
    "\n",
    "for epoch in range(numEp):\n",
    "    for ex in range(nb_batches):\n",
    "        # FORWARD PASS : compute prediction with current params for examples in batch\n",
    "        # BACKWARD PASS :\n",
    "        # 1) compute gradients for W and b\n",
    "        # 2) update W and b parameters with gradient descent"
   ]
  },
  {
   "cell_type": "markdown",
   "metadata": {},
   "source": [
    "Pour compléter ce code, vous devez :\n",
    "\n",
    "- Mettre en place une fonction `forward(batch, W, b)` qui va calculer la prédiction pour un batch de données. La fonction `forward` sera appelée pour chaque itération de la double boucle précédente.  \n",
    "\n",
    "\n",
    "> - Si on considère un batch des données de taille $ tb\\times 784 $, les paramètres $ \\mathbf{W} $ (taille $ 784\\times 10 $) et $ \\mathbf{b} $ (taille $ 1\\times 10 $), la fonction `forward` renvoie la prédiction $ \\mathbf{\\hat{Y}} $ sur le batch (taille $ tb\\times 10 $).    "
   ]
  },
  {
   "cell_type": "markdown",
   "metadata": {},
   "source": [
    "- Compléter le code pour la passe backward, consistant à  :\n",
    "  - Calculer les gradient comme indiqué aux équations [(4)](#equation-gradientw-LR) et [(5)](#equation-gradientb-LR).\n",
    "  - Mettre à jour les paramètres par descente de gradient comme indiqué aux équations [(6)](#equation-gradientupdatew) et [(7)](#equation-gradientupdateb).  \n",
    "\n",
    "\n",
    "Enfin vous pouvez utiliser la fonction `accuracy(W, b, images, labels)` fournie pour calculer le taux de bonne reconnaissance du modèle. Ceci permettra de mesurer l’évolution des performances au cours des époques de l’algorithme d’apprentissage, et sur la base de test une fois le modèle appris.\n",
    "\n",
    "### Vous devez obtenir un score de l’ordre de 92% sur la base de test pour ce modèle de régression logistique."
   ]
  },
  {
   "cell_type": "code",
   "execution_count": null,
   "metadata": {
    "hide-output": false
   },
   "outputs": [],
   "source": [
    "def accuracy(W, b, images, labels):\n",
    "  pred = forward(images, W,b )\n",
    "  return np.where( pred.argmax(axis=1) != labels.argmax(axis=1) , 0.,1.).mean()*100.0"
   ]
  },
  {
   "cell_type": "markdown",
   "metadata": {},
   "source": [
    "## Exercice 2 : Perceptron multi-couches (MLP)\n",
    "\n",
    "### L’objectif de ce second exercice est d’étendre le modèle de régression logistique afin de mettre en place des modèles de prédictions plus riches.\n",
    "**En particulier, on va s’intéresser aux Perceptron multi-couches (Multi-Layer Percpetron, MLP)**. Contrairement à la régression logistique qui se limite à des séparateurs linéaires,\n",
    "le Perceptron permet l’apprentissage de frontières de décisions non linéaires, et constituent des approximateurs universels de fonctions.\n",
    "\n",
    "L’objectif de la séance de travaux pratiques est de mettre en place le code pour effectuer des prédictions et entraîner un Perceptron à une couche cachée."
   ]
  },
  {
   "cell_type": "markdown",
   "metadata": {},
   "source": [
    "### Prédiction avec un Perceptron (Forward)\n",
    "\n",
    "L’architecture du perpcetron à une couche cachée est montrée à la figure ci-dessous.\n",
    "\n",
    "<img src=\"http://cedric.cnam.fr/~thomen/cours/US330X/_images/MLP.png\" style=\"height:250px;\" align=\"center\">\n",
    "\n",
    "Si on considère les données de la base MNIST, chaque image est représentée par un vecteur de taille $ 28^2=784 $.\n",
    "Le perpcetron va effecteur les différentes étape de transformation pour produire la prédiction finale, *i.e.* la catégorie sémantique de l’image :\n",
    "\n",
    "- Une étape de projection linéaire, qui va projeter chaque image sur un vecteur de taille $ (1,L) $, *e.g.* $ L=100 $. En considérant chaque exemple $ \\mathbf{x_i} $ est un vecteur ligne - taille $ (1,784) $ - la projection linéaire peut être représentée par la matrice $ \\mathbf{W^h} $ (taille $ (784, L) $), et le vecteur de biais $ \\mathbf{b^h} $ (taille $ (1, L) $) : $ \\mathbf{\\hat{u_i}} =\\mathbf{x_i}  \\mathbf{W^h}  + \\mathbf{b^h} $.  \n",
    "\n",
    "\n",
    "> - Une étape de non linéarité, *e.g.* de type sigmoïde :  $ \\forall j \\in  \\left\\lbrace 1; L \\right\\rbrace  ~ h_{i,j} = \\frac{1}{1+exp(-u_{i,j})} $  \n",
    "\n",
    "\n",
    "\n",
    "- Une seconde étape de projection linéaire, qui va projeter le vecteur latent de taille $ (1,L) $ sur un vecteur de taille $ (1,K)=10 $ (nombre de classes). Cette opération de projection linéaire sera représentée par la matrice $ \\mathbf{W^y} $ (taille $ (L, K) $), et le vecteur de biais $ \\mathbf{b^y} $ (taille $ (1, K) $) : $ \\mathbf{\\hat{v_i}} =\\mathbf{h_i}  \\mathbf{W^y}  + \\mathbf{b^y} $.  \n",
    "\n",
    "\n",
    "> - Une étape de non linéarité de type soft-max vue la semaine précédente pour la régression logistique : $ \\forall j \\in  \\left\\lbrace 1; K \\right\\rbrace  ~ y_{i,j} = \\frac{exp(v_{i,j})}{\\sum\\limits_{i=1}^K exp(v_{i,k})} $  \n",
    "\n",
    "\n",
    "\n",
    "**On demande de mettre en place un script** `mlp.py` **qui implémente l’alogorithme du Percpetron sur la base MNIST.**\n",
    "\n",
    "\n",
    "<dl style='margin: 20px 0;'>\n",
    "<dt>L’algorithme reprendra le squelette du code de la régression logistique. Pour adapter ce code pour le Perceptron pour la partie prédiction,  vous devez :</dt>\n",
    "<dd>\n",
    "- Modifier la fonction de prédiction, afin disposer la fonction `forward(batch, Wh, bh, Wy, by)` qui reverra à la fois la prédiction pour le batch ainsi que la matrice des couches latentes.  \n",
    "\n",
    "\n",
    "> - Si on considère un batch des données de taille $ t_b\\times 784 $, les paramètres $ \\mathbf{W^h} $ (taille $ 784\\times L $), $ \\mathbf{b^h} $ (taille $ 1\\times L $), $ \\mathbf{W^y} $ (taille $ L\\times K $) et $ \\mathbf{b^y} $ (taille $ 1\\times K $), la fonction `forward` renvoie la prédiction $ \\mathbf{\\hat{Y}} $ sur le batch (taille $ t_b\\times K $) et la matrice de variables latentes (taille $ t_b\\times L $).  \n",
    "\n",
    "\n",
    "\n",
    "</dd>\n",
    "\n",
    "</dl>"
   ]
  },
  {
   "cell_type": "code",
   "execution_count": null,
   "metadata": {},
   "outputs": [],
   "source": [
    "# Function forward pour le MLP\n",
    "def forward(batch, Wh, bh, Wy, by):                 \n",
    "    latent = 0\n",
    "    res = 0\n",
    "    return latent, res"
   ]
  },
  {
   "cell_type": "code",
   "execution_count": null,
   "metadata": {},
   "outputs": [],
   "source": [
    "# Calcul de l'accuracy avec le MLP\n",
    "def accuracy(batch, labels,Wh, bh, Wy, by):\n",
    "   latent, pred = forward(batch, Wh, bh, Wy, by)  \n",
    "   return np.where( pred.argmax(axis=1) != labels.argmax(axis=1) , 0.,1.).mean()*100.0"
   ]
  },
  {
   "cell_type": "markdown",
   "metadata": {},
   "source": [
    "### Apprentissage du Perceptron (Backward)\n",
    "\n",
    "Afin d’entraîner le Perceptron, on va utiliser l’algorithme de rétro-propagation de l’erreur. On rappelle que pour chaque batch d’exemples, l’algorithme va effectuer une passe `forward` (Exercice 1), permettant de calculer la prédiction du réseau.\n",
    "Une fonction de coût (ici l’entropie croisée) entre la sortie prédite et la la sortie donnée par la supervision va permettre de calculer le gradient de l’erreur par rapport à tous les paramètres paramètres du modèle, *i.e.* $ \\mathbf{W^y} $ (taille $ (L, K) $), $ \\mathbf{b^y} $ (taille $ (1, K) $), $ \\mathbf{W^h} $ (taille $ (784, L) $), et $ \\mathbf{b^h} $ (taille $ (1, L) $).\n",
    "\n",
    "On rappelle les équation des gradients, effectuées depuis le haut vers le bas du réseau :\n",
    "\n",
    "1. Mise à jour de $ \\mathbf{W^y} $ et $ \\mathbf{b^y} $ :  \n",
    "\n",
    "\n",
    "$$\n",
    "\\frac{\\partial \\mathcal{L}}{\\partial \\mathbf{v_i}} = \\mathbf{\\delta^y_i} = \\mathbf{\\hat{y_i}} - \\mathbf{y_i^*}\n",
    "$$\n",
    "\n",
    "\n",
    "<a id='equation-gradientw'></a>\n",
    "$$\n",
    "\\frac{\\partial \\mathcal{L}}{\\partial \\mathbf{W^y}} = \\frac{1}{t_b}\\mathbf{H}^T (\\mathbf{\\hat{Y}} - \\mathbf{Y^*}) = \\frac{1}{t_b} \\mathbf{H}^T \\mathbf{\\Delta^y} \\tag{8}\n",
    "$$\n",
    "\n",
    "\n",
    "<a id='equation-gradientb'></a>\n",
    "$$\n",
    "\\frac{\\partial \\mathcal{L}}{\\partial \\mathbf{b^y}} = \\frac{1}{t_b}\\sum_{i=1}^{t_b}(\\mathbf{\\hat{y_i}} - \\mathbf{y_i^*}) \\tag{9}\n",
    "$$\n",
    "\n",
    "Où  $ \\mathbf{H} $ est la matrice des couches cachées sur le batch (taille $ t_b\\times L $), $ \\mathbf{\\hat{Y}} $ est la matrice des labels prédits sur l’ensemble de la base d’apprentissage (taille $ t_b\\times K $)\n",
    "et $ \\mathbf{Y^*} $ est la matrice des labels donnée issue de la supervision (« ground truth », taille $ t_b\\times K $), et $ \\mathbf{\\Delta^y}=\\mathbf{\\hat{Y}}-\\mathbf{Y^*} $.\n",
    "\n",
    "1. Mise à jour de $ \\mathbf{W^h} $ et $ \\mathbf{b^h} $ :  \n",
    "\n",
    "\n",
    "$$\n",
    "\\frac{\\partial \\mathcal{L}}{\\partial \\mathbf{u_i}} = \\mathbf{\\delta^h_i} = \\mathbf{\\delta^y_i} \\mathbf{W^{y}}^T   \\odot \\sigma^{'}(\\mathbf{u_i}) = \\mathbf{\\delta^y_i} \\mathbf{W^{y}}^T \\odot (\\mathbf{h_i} \\odot (1-\\mathbf{h_i}))\n",
    "$$\n",
    "\n",
    "$$\n",
    "\\frac{\\partial \\mathcal{L}}{\\partial \\mathbf{W^h}} =  \\frac{1}{t_b} \\mathbf{X}^T \\mathbf{\\Delta^h}\n",
    "$$\n",
    "\n",
    "$$\n",
    "\\frac{\\partial \\mathcal{L}}{\\partial \\mathbf{b^h}} = \\frac{1}{t_b}\\sum_{i=1}^{t_b}(\\delta^h_i)\n",
    "$$\n",
    "\n",
    "Où  $ \\mathbf{X} $ est la matrice des données sur le batch (taille $ t_b\\times 784 $), et $ \\mathbf{\\Delta^h} $ est la matrice des $ \\delta^h_i $ sur le batch (taille $ t_b\\times L $)."
   ]
  },
  {
   "cell_type": "markdown",
   "metadata": {},
   "source": [
    "## Adapter la partie backward de l’algorithme pour entraîner le Perceptron.\n",
    "On Choisira un pas de gradient $ \\eta=1.0 $ et 100 époques."
   ]
  },
  {
   "cell_type": "code",
   "execution_count": null,
   "metadata": {},
   "outputs": [],
   "source": [
    "d = X_train.shape[1] # dimension d'entrée (784)\n",
    "N = X_train.shape[0] # nombre d'exemples d'apprentissage (60000)\n",
    "L=100 # dimension de l'espace latent \n",
    "\n",
    "# Initialisation des poids : Gaussienne ou Glorot (voir ci-dessous)  \n",
    "Wh = 0\n",
    "bh = 0\n",
    "Wy = 0\n",
    "by = 0\n",
    "\n",
    "# Hyper-paramètres d'apprentissage\n",
    "numEpochs = 50\n",
    "eta = 1\n",
    "\n",
    "batch_size = 100\n",
    "nb_batches = int(float(N) / batch_size)\n",
    "\n",
    "for it in range(numEpochs):\n",
    "    for b in range(nb_batches):\n",
    "        # FORWARD\n",
    "        \n",
    "        # BACKWARD \n",
    "        # Calcul de deltay = dE / dy~         \n",
    "        # Calcul de gradWy = h^T * deltay - (LxN) * (NxK)  et gradby      \n",
    " \n",
    "        # Calcul de  deltah   =dE / dh~ size (N,L)\n",
    "        # Calcul de gradWh = x^T * deltah - (dxN) * (NxL) = (dxL) et gradbh\n",
    "        \n",
    "        # Mise à jour des poids du réseau\n",
    "    \n",
    "    print(\"epoch \", it, \"accurcy train=\",accuracy(X_train, Y_train, Wh, bh, Wy, by), \"accurcy test=\",accuracy(X_test, Y_test, Wh, bh, Wy, by))"
   ]
  },
  {
   "cell_type": "markdown",
   "metadata": {},
   "source": [
    "## Questions :\n",
    "\n",
    "- La fonction de coût de l’Eq. [(3)](tpDeepLearning1.ipynb#equation-ce) est-elle convexe par rapport aux paramètres $ \\mathbf{W} $, $ \\mathbf{b} $ du modèle ? Avec un pas de gradient bien choisi, peut-on assurer la convergence vers le minimum global de la solution ?  \n",
    "- Tester en initialisant les matrices à 0 comme pour la régression logistique. Quelles performances obtenez-vous ? Que peut-on en conclure ?  \n",
    "- Vous testerez deux autres initialisations : une qui initialise les poids avec une loi normale de moyenne nulle et d’écart type à fixer, *e.g.* $ 10^-1 $, et une autre connue sous le nom de Xavier [[GB10]](#glorot10understandingthe), qui divise la valeur de la gaussienne par $ \\sqrt{ni} $, où $ ni $ est le nombre de neurone dans la couche d’entrée.  \n",
    "- Évaluer les performances du modèle. **Vous devez obtenir un score de l’ordre de 98% sur la base de test pour ce réseau de neurones à une couche cachée.**  \n",
    "\n",
    "\n",
    "<a id='glorot10understandingthe'></a>\n",
    "\\[GB10\\] Xavier Glorot and Yoshua Bengio. Understanding the difficulty of training deep feedforward neural networks. In *In Proceedings of the International Conference on Artificial Intelligence and Statistics (AISTATS’10). Society for Artificial Intelligence and Statistics*. 2010."
   ]
  }
 ],
 "metadata": {
  "date": 1637163670.9135308,
  "filename": "tpbackprop.rst",
  "kernelspec": {
   "display_name": "Python 3",
   "language": "python",
   "name": "python3"
  },
  "language_info": {
   "codemirror_mode": {
    "name": "ipython",
    "version": 3
   },
   "file_extension": ".py",
   "mimetype": "text/x-python",
   "name": "python",
   "nbconvert_exporter": "python",
   "pygments_lexer": "ipython3",
   "version": "3.8.8"
  },
  "title": "TP 1 - Algorithme de rétro-propagation de l’erreur"
 },
 "nbformat": 4,
 "nbformat_minor": 2
}
